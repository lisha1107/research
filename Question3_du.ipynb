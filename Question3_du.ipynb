{
 "cells": [
  {
   "cell_type": "markdown",
   "metadata": {},
   "source": [
    "https://projecteuler.net/problem=3"
   ]
  },
  {
   "cell_type": "markdown",
   "metadata": {},
   "source": [
    "\n",
    "\n",
    "The prime factors of 13195 are 5, 7, 13 and 29.\n",
    "\n",
    "What is the largest prime factor of the number 600851475143 ?\n"
   ]
  },
  {
   "cell_type": "code",
   "execution_count": null,
   "metadata": {},
   "outputs": [],
   "source": [
    "number = 600851475143\n",
    "max([i for i in range(1, number) if number % i == 0])"
   ]
  },
  {
   "cell_type": "markdown",
   "metadata": {},
   "source": [
    "1. find all primes numbers (e.g., within 1,000,000)\n",
    "    - check whether each number is prime \n",
    "        + is_prime(n) to check whether a number is prime or not\n",
    "        \n",
    "            if none of the number from 2 to n (exclusive) can be divide by n, then n is a prime. \n",
    "            \n",
    "            if none of the number from 2 to $\\sqrt{n}$ can be divide by n, then n is a prime\n",
    "            \n",
    "            if n cannot be divided by any prime number less than n, n is a prime.\n",
    "            \n",
    "        + apply is_prime to all numbers\n",
    "\n",
    "2. find the largest prime factor"
   ]
  },
  {
   "cell_type": "code",
   "execution_count": 12,
   "metadata": {},
   "outputs": [],
   "source": [
    "import math\n",
    "\n",
    "def is_prime(n: int):\n",
    "    for i in range(2, int(math.sqrt(n) + 1)):\n",
    "        if n % i == 0:\n",
    "            return False\n",
    "    return True"
   ]
  },
  {
   "cell_type": "code",
   "execution_count": 31,
   "metadata": {},
   "outputs": [],
   "source": [
    "primes = [p for p in range(2, 10000) if is_prime(p)]"
   ]
  },
  {
   "cell_type": "code",
   "execution_count": 32,
   "metadata": {},
   "outputs": [],
   "source": [
    "def largest_prime_factor(n: int):\n",
    "    index = 0 \n",
    "    max_prime = 2\n",
    "    while n > 1:\n",
    "        while n % primes[index] == 0:\n",
    "            n /= primes[index]\n",
    "            max_prime = primes[index]\n",
    "        index += 1\n",
    "    return max_prime"
   ]
  },
  {
   "cell_type": "code",
   "execution_count": 33,
   "metadata": {},
   "outputs": [
    {
     "data": {
      "text/plain": [
       "6857"
      ]
     },
     "execution_count": 33,
     "metadata": {},
     "output_type": "execute_result"
    }
   ],
   "source": [
    "largest_prime_factor(600851475143)"
   ]
  },
  {
   "cell_type": "code",
   "execution_count": 20,
   "metadata": {},
   "outputs": [],
   "source": [
    "class Prime:\n",
    "    def __init__(self):\n",
    "        self._primes = [2, 3]\n",
    "    \n",
    "    def _is_prime(self, x):\n",
    "        primes = (p for p in self._primes if p <= math.sqrt(x) + 1)\n",
    "        for p in primes:\n",
    "            if x % p == 0:\n",
    "                return False\n",
    "        return True\n",
    "        \n",
    "    def primes(self):\n",
    "        for p in self._primes:\n",
    "            yield p\n",
    "    \n",
    "        x = self._primes[-1] + 2 \n",
    "        while True:\n",
    "            if self._is_prime(x):\n",
    "                self._primes.append(x)\n",
    "                yield x\n",
    "            x += 2\n",
    "            \n",
    "    def largest_prime_factor(self, n):\n",
    "        for p in self.primes():\n",
    "            while n % p == 0:\n",
    "                n /= p\n",
    "            if n == 1:\n",
    "                return p"
   ]
  },
  {
   "cell_type": "code",
   "execution_count": 21,
   "metadata": {},
   "outputs": [],
   "source": [
    "prime = Prime()"
   ]
  },
  {
   "cell_type": "code",
   "execution_count": 24,
   "metadata": {},
   "outputs": [
    {
     "data": {
      "text/plain": [
       "6857"
      ]
     },
     "execution_count": 24,
     "metadata": {},
     "output_type": "execute_result"
    }
   ],
   "source": [
    "prime.largest_prime_factor(600851475143)"
   ]
  },
  {
   "cell_type": "code",
   "execution_count": 8,
   "metadata": {},
   "outputs": [
    {
     "data": {
      "text/plain": [
       "[2, 3, 5]"
      ]
     },
     "execution_count": 8,
     "metadata": {},
     "output_type": "execute_result"
    }
   ],
   "source": [
    "prime._primes"
   ]
  },
  {
   "cell_type": "code",
   "execution_count": 9,
   "metadata": {},
   "outputs": [
    {
     "data": {
      "text/plain": [
       "4.16227766016838"
      ]
     },
     "execution_count": 9,
     "metadata": {},
     "output_type": "execute_result"
    }
   ],
   "source": [
    "math.sqrt(10)+1"
   ]
  },
  {
   "cell_type": "code",
   "execution_count": 15,
   "metadata": {},
   "outputs": [
    {
     "data": {
      "text/plain": [
       "False"
      ]
     },
     "execution_count": 15,
     "metadata": {},
     "output_type": "execute_result"
    }
   ],
   "source": [
    "prime._is_prime(12)"
   ]
  },
  {
   "cell_type": "code",
   "execution_count": 16,
   "metadata": {},
   "outputs": [
    {
     "data": {
      "text/plain": [
       "[2, 3]"
      ]
     },
     "execution_count": 16,
     "metadata": {},
     "output_type": "execute_result"
    }
   ],
   "source": [
    "prime._primes"
   ]
  },
  {
   "cell_type": "code",
   "execution_count": null,
   "metadata": {},
   "outputs": [],
   "source": []
  }
 ],
 "metadata": {
  "kernelspec": {
   "display_name": "Python 3",
   "language": "python",
   "name": "python3"
  },
  "language_info": {
   "codemirror_mode": {
    "name": "ipython",
    "version": 3
   },
   "file_extension": ".py",
   "mimetype": "text/x-python",
   "name": "python",
   "nbconvert_exporter": "python",
   "pygments_lexer": "ipython3",
   "version": "3.6.7"
  }
 },
 "nbformat": 4,
 "nbformat_minor": 2
}
