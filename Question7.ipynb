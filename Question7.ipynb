{
 "cells": [
  {
   "cell_type": "markdown",
   "metadata": {},
   "source": [
    "https://projecteuler.net/problem=7\n",
    "\n",
    "By listing the first six prime numbers: 2, 3, 5, 7, 11, and 13, we can see that the 6th prime is 13.\n",
    "\n",
    "What is the 10 001st prime number?"
   ]
  },
  {
   "cell_type": "markdown",
   "metadata": {},
   "source": []
  },
  {
   "cell_type": "code",
   "execution_count": 44,
   "metadata": {
    "collapsed": true
   },
   "outputs": [],
   "source": [
    "import math\n",
    "\n",
    "class Prime():\n",
    "    def __init__(self):\n",
    "        self._primes = [2, 3]\n",
    "        \n",
    "    def _is_prime(self,x):\n",
    "        primes = [p for p in self._primes if p <= math.sqrt(x) + 1]\n",
    "        for i in primes:\n",
    "            if x % i == 0:\n",
    "                return False\n",
    "        return True\n",
    "    \n",
    "    def primes(self, y):\n",
    "              \n",
    "        j = self._primes[-1] + 2\n",
    "\n",
    "        while True:\n",
    "            if self._is_prime(j):\n",
    "                self._primes.append(j)\n",
    "            elif len(self._primes) > y:\n",
    "                break\n",
    "            j += 2\n",
    "        return self._primes[y - 1]\n",
    "            \n",
    "### this class is slower than the function below)        "
   ]
  },
  {
   "cell_type": "code",
   "execution_count": 45,
   "metadata": {
    "collapsed": false
   },
   "outputs": [
    {
     "data": {
      "text/plain": [
       "104743"
      ]
     },
     "execution_count": 45,
     "metadata": {},
     "output_type": "execute_result"
    }
   ],
   "source": [
    "Prime().primes(10001)"
   ]
  },
  {
   "cell_type": "code",
   "execution_count": 42,
   "metadata": {
    "collapsed": true
   },
   "outputs": [],
   "source": [
    "def _is_prime(x):\n",
    "    for i in range(2, int(math.sqrt(x) + 2)):\n",
    "        if x % i == 0:\n",
    "            return False\n",
    "    return True\n",
    "    \n",
    "def primes(y):\n",
    "    \n",
    "    _primes = [2, 3]\n",
    "              \n",
    "    j = _primes[-1] + 2\n",
    "\n",
    "    while True:\n",
    "        if _is_prime(j):\n",
    "            _primes.append(j)\n",
    "        elif len(_primes) > y:\n",
    "            break    \n",
    "        j += 2\n",
    "    return _primes[y - 1]"
   ]
  },
  {
   "cell_type": "code",
   "execution_count": 43,
   "metadata": {
    "collapsed": false
   },
   "outputs": [
    {
     "data": {
      "text/plain": [
       "104743"
      ]
     },
     "execution_count": 43,
     "metadata": {},
     "output_type": "execute_result"
    }
   ],
   "source": [
    "primes(10001)"
   ]
  },
  {
   "cell_type": "code",
   "execution_count": 22,
   "metadata": {
    "collapsed": true
   },
   "outputs": [],
   "source": [
    "import math\n",
    "\n",
    "def _is_prime(x):\n",
    "    for i in range(2, int(math.sqrt(x) + 2)):\n",
    "        if x % i == 0:\n",
    "            return False\n",
    "    return True\n",
    "\n",
    "def primes():\n",
    "    _primes = [2, 3]\n",
    "    for p in _primes:\n",
    "        yield p\n",
    "    \n",
    "    j = _primes[-1] + 2\n",
    "    \n",
    "    while True:\n",
    "        if _is_prime(j):\n",
    "            _primes.append(j)\n",
    "            yield j\n",
    "        j += 2"
   ]
  },
  {
   "cell_type": "code",
   "execution_count": 23,
   "metadata": {},
   "outputs": [
    {
     "data": {
      "text/plain": [
       "[104743]"
      ]
     },
     "execution_count": 23,
     "metadata": {},
     "output_type": "execute_result"
    }
   ],
   "source": [
    "import itertools as iter\n",
    "list(iter.islice(primes(), 10000, 10001))"
   ]
  },
  {
   "cell_type": "code",
   "execution_count": null,
   "metadata": {},
   "outputs": [],
   "source": []
  },
  {
   "cell_type": "code",
   "execution_count": null,
   "metadata": {},
   "outputs": [],
   "source": []
  },
  {
   "cell_type": "code",
   "execution_count": null,
   "metadata": {},
   "outputs": [],
   "source": []
  },
  {
   "cell_type": "code",
   "execution_count": null,
   "metadata": {},
   "outputs": [],
   "source": []
  }
 ],
 "metadata": {
  "kernelspec": {
   "display_name": "Python 3",
   "language": "python",
   "name": "python3"
  },
  "language_info": {
   "codemirror_mode": {
    "name": "ipython",
    "version": 3
   },
   "file_extension": ".py",
   "mimetype": "text/x-python",
   "name": "python",
   "nbconvert_exporter": "python",
   "pygments_lexer": "ipython3",
   "version": "3.6.7"
  }
 },
 "nbformat": 4,
 "nbformat_minor": 2
}
