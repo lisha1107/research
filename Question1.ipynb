{
 "cells": [
  {
   "cell_type": "code",
   "execution_count": 3,
   "metadata": {},
   "outputs": [
    {
     "name": "stdout",
     "output_type": "stream",
     "text": [
      "233168\n"
     ]
    }
   ],
   "source": [
    "# Question 1: Find the sum of all the multiples of 3 or 5 below 1000.\n",
    "\n",
    "a = range(0, 1000)\n",
    "\n",
    "total = 0\n",
    "\n",
    "for x in a:\n",
    "    if x % 3 == 0 or x % 5 == 0:\n",
    "        total += x\n",
    "\n",
    "print(total)\n",
    "\n",
    "# formating, add space to \",\", \"=\",\"+\"....\n",
    "# naming, at least three charactor"
   ]
  },
  {
   "cell_type": "code",
   "execution_count": null,
   "metadata": {},
   "outputs": [],
   "source": [
    "[i for i in range(0, 1000) if i % 3 == 0 or i % 5 == 0] \n",
    "\n",
    "#list comprehension\n",
    "\n",
    "# output is a list"
   ]
  },
  {
   "cell_type": "code",
   "execution_count": 4,
   "metadata": {},
   "outputs": [
    {
     "data": {
      "text/plain": [
       "233168"
      ]
     },
     "execution_count": 4,
     "metadata": {},
     "output_type": "execute_result"
    }
   ],
   "source": [
    "sum(i for i in range(0, 1000) if i % 3 == 0 or i % 5 == 0)\n",
    "\n",
    "#iterator/generator ( ()is an object, don't calculate unless you need it. )"
   ]
  },
  {
   "cell_type": "code",
   "execution_count": 1,
   "metadata": {},
   "outputs": [],
   "source": [
    "test = [i for i in range(0, 1000) if i % 3 == 0 or i % 5 == 0] "
   ]
  },
  {
   "cell_type": "code",
   "execution_count": 2,
   "metadata": {},
   "outputs": [
    {
     "data": {
      "text/plain": [
       "233168"
      ]
     },
     "execution_count": 2,
     "metadata": {},
     "output_type": "execute_result"
    }
   ],
   "source": [
    "sum(test)"
   ]
  },
  {
   "cell_type": "code",
   "execution_count": null,
   "metadata": {},
   "outputs": [],
   "source": []
  }
 ],
 "metadata": {
  "kernelspec": {
   "display_name": "Python 3",
   "language": "python",
   "name": "python3"
  },
  "language_info": {
   "codemirror_mode": {
    "name": "ipython",
    "version": 3
   },
   "file_extension": ".py",
   "mimetype": "text/x-python",
   "name": "python",
   "nbconvert_exporter": "python",
   "pygments_lexer": "ipython3",
   "version": "3.6.7"
  }
 },
 "nbformat": 4,
 "nbformat_minor": 2
}
